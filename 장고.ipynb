{
 "cells": [
  {
   "cell_type": "code",
   "execution_count": 15,
   "metadata": {},
   "outputs": [
    {
     "ename": "SyntaxError",
     "evalue": "invalid syntax (<ipython-input-15-6463fda16d48>, line 1)",
     "output_type": "error",
     "traceback": [
      "\u001b[1;36m  File \u001b[1;32m\"<ipython-input-15-6463fda16d48>\"\u001b[1;36m, line \u001b[1;32m1\u001b[0m\n\u001b[1;33m    mkvirtualenv myproject\u001b[0m\n\u001b[1;37m                 ^\u001b[0m\n\u001b[1;31mSyntaxError\u001b[0m\u001b[1;31m:\u001b[0m invalid syntax\n"
     ]
    }
   ],
   "source": [
    "mkvirtualenv myproject"
   ]
  },
  {
   "cell_type": "code",
   "execution_count": 14,
   "metadata": {},
   "outputs": [
    {
     "name": "stdout",
     "output_type": "stream",
     "text": [
      "Requirement already satisfied: virtualenvwrapper-win in c:\\users\\han\\anaconda3\\lib\\site-packages (1.2.6)\n",
      "Requirement already satisfied: virtualenv in c:\\users\\han\\anaconda3\\lib\\site-packages (from virtualenvwrapper-win) (20.9.0)\n",
      "Requirement already satisfied: distlib<1,>=0.3.1 in c:\\users\\han\\anaconda3\\lib\\site-packages (from virtualenv->virtualenvwrapper-win) (0.3.3)\n",
      "Requirement already satisfied: filelock<4,>=3.2 in c:\\users\\han\\anaconda3\\lib\\site-packages (from virtualenv->virtualenvwrapper-win) (3.3.2)\n",
      "Requirement already satisfied: platformdirs<3,>=2 in c:\\users\\han\\anaconda3\\lib\\site-packages (from virtualenv->virtualenvwrapper-win) (2.4.0)\n",
      "Requirement already satisfied: six<2,>=1.9.0 in c:\\users\\han\\anaconda3\\lib\\site-packages (from virtualenv->virtualenvwrapper-win) (1.15.0)\n",
      "Requirement already satisfied: backports.entry-points-selectable>=1.0.4 in c:\\users\\han\\anaconda3\\lib\\site-packages (from virtualenv->virtualenvwrapper-win) (1.1.0)\n",
      "Note: you may need to restart the kernel to use updated packages.\n"
     ]
    }
   ],
   "source": [
    "pip install virtualenvwrapper-win"
   ]
  }
 ],
 "metadata": {
  "interpreter": {
   "hash": "5076ce758c1d507fb8298519d889f87a074bca440ec1faec455c3df03162a708"
  },
  "kernelspec": {
   "display_name": "Python 3.8.8 64-bit ('base': conda)",
   "name": "python3"
  },
  "language_info": {
   "codemirror_mode": {
    "name": "ipython",
    "version": 3
   },
   "file_extension": ".py",
   "mimetype": "text/x-python",
   "name": "python",
   "nbconvert_exporter": "python",
   "pygments_lexer": "ipython3",
   "version": "3.8.8"
  },
  "orig_nbformat": 4
 },
 "nbformat": 4,
 "nbformat_minor": 2
}
